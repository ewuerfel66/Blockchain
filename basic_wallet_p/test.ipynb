{
 "cells": [
  {
   "cell_type": "code",
   "execution_count": 2,
   "metadata": {},
   "outputs": [],
   "source": [
    "import requests"
   ]
  },
  {
   "cell_type": "code",
   "execution_count": 10,
   "metadata": {},
   "outputs": [],
   "source": [
    "node = \"http://localhost:5000\"\n",
    "user_id = \"eric-wuerfel\\n\""
   ]
  },
  {
   "cell_type": "code",
   "execution_count": 4,
   "metadata": {},
   "outputs": [],
   "source": [
    "req = requests.get(url=node + \"/chain\")"
   ]
  },
  {
   "cell_type": "code",
   "execution_count": 5,
   "metadata": {},
   "outputs": [],
   "source": [
    "try:\n",
    "    data = req.json()\n",
    "except ValueError:\n",
    "    print(\"Error:  Non-json response\")\n",
    "    print(\"Response returned:\")\n",
    "    print(req)"
   ]
  },
  {
   "cell_type": "code",
   "execution_count": 6,
   "metadata": {},
   "outputs": [
    {
     "data": {
      "text/plain": [
       "[{'index': 1,\n",
       "  'previous_hash': 1,\n",
       "  'proof': 100,\n",
       "  'timestamp': 1579213245.910313,\n",
       "  'transactions': []},\n",
       " {'index': 2,\n",
       "  'previous_hash': '92545552c34a1b8a90d256cad08fdba3993b2495fd7676bdf601f398a72e792c',\n",
       "  'proof': 39502566,\n",
       "  'timestamp': 1579213871.6582599,\n",
       "  'transactions': []},\n",
       " {'index': 3,\n",
       "  'previous_hash': 'af92ea716de15f282ff8956896ee5d0c85ace06a80b1f5f4283c5018ef21fed4',\n",
       "  'proof': 27297464,\n",
       "  'timestamp': 1579213903.9878924,\n",
       "  'transactions': [{'amount': 1, 'recipient': 'eric-wuerfel\\n', 'sender': 0}]},\n",
       " {'index': 4,\n",
       "  'previous_hash': '14da3dc9fef0cbf5ac20c27e33fba4b0310bca0739dfaf6cebd481901a0fb5d7',\n",
       "  'proof': 7907206,\n",
       "  'timestamp': 1579213914.4290318,\n",
       "  'transactions': [{'amount': 1, 'recipient': 'eric-wuerfel\\n', 'sender': 0}]},\n",
       " {'index': 5,\n",
       "  'previous_hash': '328e89f206d16639448f6a58de54f39f69620a4cd4839a36ee91aa37e30c3748',\n",
       "  'proof': 34700236,\n",
       "  'timestamp': 1579213960.0981328,\n",
       "  'transactions': [{'amount': 1, 'recipient': 'eric-wuerfel\\n', 'sender': 0}]},\n",
       " {'index': 6,\n",
       "  'previous_hash': '99619b1f6c40ec1b596d8f7ca273ec5c3d3b134c6957789a44a1618129094e8c',\n",
       "  'proof': 14301751,\n",
       "  'timestamp': 1579213978.9320848,\n",
       "  'transactions': [{'amount': 1, 'recipient': 'eric-wuerfel\\n', 'sender': 0}]},\n",
       " {'index': 7,\n",
       "  'previous_hash': 'fad0a34667cad46085e608e1b041985538c02a201ae04f6ebb26528659cb5298',\n",
       "  'proof': 3429632,\n",
       "  'timestamp': 1579213983.4071908,\n",
       "  'transactions': [{'amount': 1, 'recipient': 'eric-wuerfel\\n', 'sender': 0}]},\n",
       " {'index': 8,\n",
       "  'previous_hash': '207e7db3dae5ed685be0fe320a44f88f8eb66ad500253667dc94f335b2af3943',\n",
       "  'proof': 2809525,\n",
       "  'timestamp': 1579213987.121838,\n",
       "  'transactions': [{'amount': 1, 'recipient': 'eric-wuerfel\\n', 'sender': 0}]},\n",
       " {'index': 9,\n",
       "  'previous_hash': 'cb49d1acfb36aa5434803fb160e43ca18d527df89fd873f4b5953855b11b5b45',\n",
       "  'proof': 21251661,\n",
       "  'timestamp': 1579214014.8508408,\n",
       "  'transactions': [{'amount': 1, 'recipient': 'eric-wuerfel\\n', 'sender': 0}]}]"
      ]
     },
     "execution_count": 6,
     "metadata": {},
     "output_type": "execute_result"
    }
   ],
   "source": [
    "chain = data['chain']\n",
    "chain"
   ]
  },
  {
   "cell_type": "code",
   "execution_count": 7,
   "metadata": {},
   "outputs": [],
   "source": [
    "balance = 0"
   ]
  },
  {
   "cell_type": "code",
   "execution_count": 11,
   "metadata": {},
   "outputs": [],
   "source": [
    "for block in chain:\n",
    "    # Get the transactions\n",
    "    transactions = block['transactions']\n",
    "    \n",
    "    for transaction in transactions:\n",
    "        if transaction['sender'] == user_id:\n",
    "            balance -= transaction['amount']\n",
    "        elif transaction['recipient'] == user_id:\n",
    "            balance += transaction['amount']"
   ]
  },
  {
   "cell_type": "code",
   "execution_count": 12,
   "metadata": {},
   "outputs": [
    {
     "data": {
      "text/plain": [
       "7"
      ]
     },
     "execution_count": 12,
     "metadata": {},
     "output_type": "execute_result"
    }
   ],
   "source": [
    "balance"
   ]
  },
  {
   "cell_type": "code",
   "execution_count": null,
   "metadata": {},
   "outputs": [],
   "source": []
  }
 ],
 "metadata": {
  "kernelspec": {
   "display_name": "Python 3",
   "language": "python",
   "name": "python3"
  },
  "language_info": {
   "codemirror_mode": {
    "name": "ipython",
    "version": 3
   },
   "file_extension": ".py",
   "mimetype": "text/x-python",
   "name": "python",
   "nbconvert_exporter": "python",
   "pygments_lexer": "ipython3",
   "version": "3.7.3"
  }
 },
 "nbformat": 4,
 "nbformat_minor": 2
}
